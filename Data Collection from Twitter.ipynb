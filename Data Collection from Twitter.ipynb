{
 "cells": [
  {
   "cell_type": "code",
   "execution_count": 5,
   "metadata": {},
   "outputs": [],
   "source": [
    "#Importing Library\n",
    "import tweepy\n",
    "import time\n",
    "import csv"
   ]
  },
  {
   "cell_type": "code",
   "execution_count": 6,
   "metadata": {},
   "outputs": [],
   "source": [
    "#API operations\n",
    "\n",
    "#project\n",
    "api_key = ''\n",
    "api_key_secreat = ''\n",
    "\n",
    "#user\n",
    "access_token = ''\n",
    "access_token_secreat =''\n",
    "\n",
    "auth = tweepy.OAuthHandler(api_key,api_key_secreat)\n",
    "auth.set_access_token(access_token,access_token_secreat)\n",
    "\n",
    "api = tweepy.API(auth,wait_on_rate_limit=True,wait_on_rate_limit_notify=True)\n",
    "\n",
    "user = api.me()"
   ]
  },
  {
   "cell_type": "code",
   "execution_count": 10,
   "metadata": {},
   "outputs": [
    {
     "name": "stdout",
     "output_type": "stream",
     "text": [
      "Tweet No:  1\n",
      "Created at :  2021-07-15 22:01:23\n",
      "Tweet Location:  San Antonio, Texas\n",
      "Tweet Text:  @BenVolin @Bencjacobs For the umpteenth time, getting vaccinated doesn't prevent you from contracting the virus. It does, however, help reduce the symptoms associated with covid-19. \n",
      "\n",
      "Players who don't want to miss time/money must continue to wear a mask and social distance.\n",
      "Tweet Id:  1415793645391949828\n",
      "User Id:  128429068\n",
      "length 275\n",
      "------------------------------\n",
      "Tweet No:  2\n",
      "Created at :  2021-07-15 14:39:08\n",
      "Tweet Location:  Europe \n",
      "Tweet Text:  @TIME @AliceParkNY If any country can hold a bay the virus with such event this is Japan and Tokyo.\n",
      "Citizens observant of mask mandate as they do all through the winter when they have a flu.\n",
      "Social distance won’t be a problem\n",
      "\n",
      "If we would be like the Japanese COVID. 19 would have gone in 2020\n",
      "Tweet Id:  1415682347878342665\n",
      "User Id:  1240582323046842369\n",
      "length 293\n",
      "------------------------------\n",
      "Tweet No:  3\n",
      "Created at :  2021-07-15 08:55:02\n",
      "Tweet Location:  UK\n",
      "Tweet Text:  We have vaccine but our world isn't safe. We are only lucky that #covid19 #virus does not transmit from physical #gadgets only by air but #variety of virus kills us all. Normally available in #Amazon https://t.co/QY6jc5L9w4 #ebook we R giving for #FREE https://t.co/BlPqLm179G\n",
      "Tweet Id:  1415595750692638720\n",
      "User Id:  328638472\n",
      "length 276\n",
      "------------------------------\n",
      "Tweet No:  4\n",
      "Created at :  2021-07-15 08:08:54\n",
      "Tweet Location:  Sleaford, England\n",
      "Tweet Text:  @stevebr98325879 @Brimstones1234 @afneil Oh, so this virus is so virulent and dangerous that people are dying in the streets, like a real pandemic right? No, thought not. It’s so deadly even the Queen, at 95, doesn’t wear a mask or social distance. Go figure.\n",
      "Tweet Id:  1415584140745904132\n",
      "User Id:  1354840588823179270\n",
      "length 259\n",
      "------------------------------\n"
     ]
    }
   ],
   "source": [
    "#Extrating the tweets\n",
    "search = '#corona OR #CoronaVirus OR #COVID19 OR COVID-19 OR #COVID OR Pandemic OR #Coroan OR #Covid #Stayhonestaysafe OR #Vaccination OR #Covaxin OR #Covishield OR quarantine OR Sanitizer OR IndiaFightsagainstcorona OR LockDown OR Social Distance OR Wuhan Virus OR #pfizer' \n",
    "numTweets = 500\n",
    "\n",
    "i = 1\n",
    "\n",
    "csvFile = open('data2.csv', 'a')\n",
    "Writer = csv.writer(csvFile)\n",
    "Writer.writerow([\"No.\", \"Created At\", \"Tweet Data\",\"Tweet Location\",\"Tweet Id\",\"User Id\"])\n",
    "request_count =1\n",
    "for tweet in tweepy.Cursor(api.search,search,lang=\"en\",result_type = 'mixed',tweet_mode='extended',since_id = '2021-07-12',until='2021-07-16').items(numTweets):\n",
    "    try:\n",
    "        request_count+=1\n",
    "        if tweet.user.location!='':\n",
    "          if 'RT' in tweet.full_text:\n",
    "            pass\n",
    "          else: \n",
    "            print('Tweet No: ',i)\n",
    "#             print('Created at : ',tweet.created_at)\n",
    "            print('Tweet Location: ',tweet.user.location)\n",
    "            print('Tweet Text: ',tweet.full_text)\n",
    "#             print('Tweet Id: ',tweet.id)\n",
    "#             print('User Id: ',tweet.user.id)\n",
    "            print('length',len(tweet.full_text))\n",
    "            print('------------------------------')\n",
    "            \n",
    "            Writer.writerow([i,tweet.created_at, tweet.full_text,tweet.user.location,tweet.id,tweet.user.id])\n",
    "            i+=1\n",
    "          \n",
    "        time.sleep(5)\n",
    "          \n",
    "       \n",
    "    except tweepy.TweepError as e:\n",
    "        print(e.reason)\n",
    "    except StopAsyncIteration:\n",
    "        break\n"
   ]
  },
  {
   "cell_type": "code",
   "execution_count": null,
   "metadata": {},
   "outputs": [],
   "source": []
  }
 ],
 "metadata": {
  "kernelspec": {
   "display_name": "Python 3",
   "language": "python",
   "name": "python3"
  },
  "language_info": {
   "codemirror_mode": {
    "name": "ipython",
    "version": 3
   },
   "file_extension": ".py",
   "mimetype": "text/x-python",
   "name": "python",
   "nbconvert_exporter": "python",
   "pygments_lexer": "ipython3",
   "version": "3.7.4"
  }
 },
 "nbformat": 4,
 "nbformat_minor": 2
}
